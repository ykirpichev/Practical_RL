{
  "nbformat": 4,
  "nbformat_minor": 0,
  "metadata": {
    "kernelspec": {
      "display_name": "Python 3",
      "language": "python",
      "name": "python3"
    },
    "language_info": {
      "codemirror_mode": {
        "name": "ipython",
        "version": 3
      },
      "file_extension": ".py",
      "mimetype": "text/x-python",
      "name": "python",
      "nbconvert_exporter": "python",
      "pygments_lexer": "ipython3",
      "version": "3.7.4"
    },
    "colab": {
      "name": "RL: deep_crossentropy_method.ipynb",
      "provenance": [],
      "collapsed_sections": []
    }
  },
  "cells": [
    {
      "cell_type": "markdown",
      "metadata": {
        "id": "tC0lIOJ0bFAd",
        "colab_type": "text"
      },
      "source": [
        "# Deep Crossentropy method\n",
        "\n",
        "In this section we'll extend your CEM implementation with neural networks! You will train a multi-layer neural network to solve simple continuous state space games. __Please make sure you're done with tabular crossentropy method from the previous notebook.__\n",
        "\n",
        "![img](https://tip.duke.edu/independent_learning/greek/lesson/digging_deeper_final.jpg)\n",
        "\n"
      ]
    },
    {
      "cell_type": "code",
      "metadata": {
        "id": "xmTd-sTPbFAh",
        "colab_type": "code",
        "outputId": "197f6f35-5447-4dfb-a95d-d28d39d7b8da",
        "colab": {
          "base_uri": "https://localhost:8080/",
          "height": 1000
        }
      },
      "source": [
        "# In Google Colab, uncomment this:\n",
        "!wget https://bit.ly/2FMJP5K -O setup.py && bash setup.py\n",
        "!pip install gym==0.15.7 pyglet==1.4.10\n",
        "!apt-get update && apt-get install xvfb\n",
        "# XVFB will be launched if you run on a server\n",
        "import os\n",
        "if type(os.environ.get(\"DISPLAY\")) is not str or len(os.environ.get(\"DISPLAY\")) == 0:\n",
        "    !bash ../xvfb start\n",
        "    os.environ['DISPLAY'] = ':1'"
      ],
      "execution_count": 0,
      "outputs": [
        {
          "output_type": "stream",
          "text": [
            "--2020-02-23 04:29:42--  https://bit.ly/2FMJP5K\n",
            "Resolving bit.ly (bit.ly)... 67.199.248.10, 67.199.248.11\n",
            "Connecting to bit.ly (bit.ly)|67.199.248.10|:443... connected.\n",
            "HTTP request sent, awaiting response... 301 Moved Permanently\n",
            "Location: https://raw.githubusercontent.com/yandexdataschool/Practical_RL/spring19/setup_colab.sh [following]\n",
            "--2020-02-23 04:29:43--  https://raw.githubusercontent.com/yandexdataschool/Practical_RL/spring19/setup_colab.sh\n",
            "Resolving raw.githubusercontent.com (raw.githubusercontent.com)... 151.101.0.133, 151.101.64.133, 151.101.128.133, ...\n",
            "Connecting to raw.githubusercontent.com (raw.githubusercontent.com)|151.101.0.133|:443... connected.\n",
            "HTTP request sent, awaiting response... 200 OK\n",
            "Length: 262 [text/plain]\n",
            "Saving to: ‘setup.py’\n",
            "\n",
            "\rsetup.py              0%[                    ]       0  --.-KB/s               \rsetup.py            100%[===================>]     262  --.-KB/s    in 0s      \n",
            "\n",
            "2020-02-23 04:29:43 (57.6 MB/s) - ‘setup.py’ saved [262/262]\n",
            "\n",
            "Requirement already satisfied: gym in /usr/local/lib/python3.6/dist-packages (0.15.7)\n",
            "Requirement already satisfied: six in /usr/local/lib/python3.6/dist-packages (from gym) (1.12.0)\n",
            "Requirement already satisfied: cloudpickle~=1.2.0 in /usr/local/lib/python3.6/dist-packages (from gym) (1.2.2)\n",
            "Requirement already satisfied: numpy>=1.10.4 in /usr/local/lib/python3.6/dist-packages (from gym) (1.17.5)\n",
            "Requirement already satisfied: pyglet<=1.5.0,>=1.4.0 in /usr/local/lib/python3.6/dist-packages (from gym) (1.4.10)\n",
            "Requirement already satisfied: scipy in /usr/local/lib/python3.6/dist-packages (from gym) (1.4.1)\n",
            "Requirement already satisfied: future in /usr/local/lib/python3.6/dist-packages (from pyglet<=1.5.0,>=1.4.0->gym) (0.16.0)\n",
            "Reading package lists... Done\n",
            "Building dependency tree       \n",
            "Reading state information... Done\n",
            "xvfb is already the newest version (2:1.19.6-1ubuntu4.4).\n",
            "The following package was automatically installed and is no longer required:\n",
            "  libnvidia-common-430\n",
            "Use 'apt autoremove' to remove it.\n",
            "0 upgraded, 0 newly installed, 0 to remove and 106 not upgraded.\n",
            "--2020-02-23 04:29:47--  https://raw.githubusercontent.com/yandexdataschool/Practical_DL/fall18/xvfb\n",
            "Resolving raw.githubusercontent.com (raw.githubusercontent.com)... 151.101.0.133, 151.101.64.133, 151.101.128.133, ...\n",
            "Connecting to raw.githubusercontent.com (raw.githubusercontent.com)|151.101.0.133|:443... connected.\n",
            "HTTP request sent, awaiting response... 200 OK\n",
            "Length: 640 [text/plain]\n",
            "Saving to: ‘../xvfb’\n",
            "\n",
            "../xvfb             100%[===================>]     640  --.-KB/s    in 0s      \n",
            "\n",
            "2020-02-23 04:29:47 (66.5 MB/s) - ‘../xvfb’ saved [640/640]\n",
            "\n",
            "Reading package lists... Done\n",
            "Building dependency tree       \n",
            "Reading state information... Done\n",
            "python-opengl is already the newest version (3.1.0+dfsg-1).\n",
            "ffmpeg is already the newest version (7:3.4.6-0ubuntu0.18.04.1).\n",
            "The following package was automatically installed and is no longer required:\n",
            "  libnvidia-common-430\n",
            "Use 'apt autoremove' to remove it.\n",
            "0 upgraded, 0 newly installed, 0 to remove and 106 not upgraded.\n",
            "Collecting pyglet==1.2.4\n",
            "  Using cached https://files.pythonhosted.org/packages/68/c3/300c6f92b21886b0fe42c13f3a39a06c6cb90c9fbb1b71da85fe59091a7d/pyglet-1.2.4-py3-none-any.whl\n",
            "\u001b[31mERROR: gym 0.15.7 has requirement pyglet<=1.5.0,>=1.4.0, but you'll have pyglet 1.2.4 which is incompatible.\u001b[0m\n",
            "Installing collected packages: pyglet\n",
            "  Found existing installation: pyglet 1.4.10\n",
            "    Uninstalling pyglet-1.4.10:\n",
            "      Successfully uninstalled pyglet-1.4.10\n",
            "Successfully installed pyglet-1.2.4\n",
            "Requirement already satisfied: gym==0.15.7 in /usr/local/lib/python3.6/dist-packages (0.15.7)\n",
            "Collecting pyglet==1.4.10\n",
            "  Using cached https://files.pythonhosted.org/packages/27/08/1df0ca875c60f3a5b66f59d5b00cfda7fdd50e7bbe1902bc7f49f05b3777/pyglet-1.4.10-py2.py3-none-any.whl\n",
            "Requirement already satisfied: six in /usr/local/lib/python3.6/dist-packages (from gym==0.15.7) (1.12.0)\n",
            "Requirement already satisfied: scipy in /usr/local/lib/python3.6/dist-packages (from gym==0.15.7) (1.4.1)\n",
            "Requirement already satisfied: numpy>=1.10.4 in /usr/local/lib/python3.6/dist-packages (from gym==0.15.7) (1.17.5)\n",
            "Requirement already satisfied: cloudpickle~=1.2.0 in /usr/local/lib/python3.6/dist-packages (from gym==0.15.7) (1.2.2)\n",
            "Requirement already satisfied: future in /usr/local/lib/python3.6/dist-packages (from pyglet==1.4.10) (0.16.0)\n",
            "Installing collected packages: pyglet\n",
            "  Found existing installation: pyglet 1.2.4\n",
            "    Uninstalling pyglet-1.2.4:\n",
            "      Successfully uninstalled pyglet-1.2.4\n",
            "Successfully installed pyglet-1.4.10\n",
            "Ign:1 https://developer.download.nvidia.com/compute/cuda/repos/ubuntu1804/x86_64  InRelease\n",
            "Ign:2 https://developer.download.nvidia.com/compute/machine-learning/repos/ubuntu1804/x86_64  InRelease\n",
            "Hit:3 https://developer.download.nvidia.com/compute/cuda/repos/ubuntu1804/x86_64  Release\n",
            "Hit:4 https://developer.download.nvidia.com/compute/machine-learning/repos/ubuntu1804/x86_64  Release\n",
            "Hit:5 http://ppa.launchpad.net/graphics-drivers/ppa/ubuntu bionic InRelease\n",
            "Hit:6 https://cloud.r-project.org/bin/linux/ubuntu bionic-cran35/ InRelease\n",
            "Hit:9 http://archive.ubuntu.com/ubuntu bionic InRelease\n",
            "Hit:10 http://archive.ubuntu.com/ubuntu bionic-updates InRelease\n",
            "Hit:11 http://archive.ubuntu.com/ubuntu bionic-backports InRelease\n",
            "Hit:12 http://security.ubuntu.com/ubuntu bionic-security InRelease\n",
            "Hit:13 http://ppa.launchpad.net/marutter/c2d4u3.5/ubuntu bionic InRelease\n",
            "Reading package lists... Done\n",
            "Reading package lists... Done\n",
            "Building dependency tree       \n",
            "Reading state information... Done\n",
            "xvfb is already the newest version (2:1.19.6-1ubuntu4.4).\n",
            "The following package was automatically installed and is no longer required:\n",
            "  libnvidia-common-430\n",
            "Use 'apt autoremove' to remove it.\n",
            "0 upgraded, 0 newly installed, 0 to remove and 106 not upgraded.\n",
            "Starting virtual X frame buffer: Xvfb.\n"
          ],
          "name": "stdout"
        }
      ]
    },
    {
      "cell_type": "code",
      "metadata": {
        "id": "3WBh0By5bFAn",
        "colab_type": "code",
        "outputId": "8deed980-2b80-4c0a-87d7-73b9aec6673f",
        "colab": {
          "base_uri": "https://localhost:8080/",
          "height": 337
        }
      },
      "source": [
        "import gym\n",
        "import numpy as np\n",
        "import matplotlib.pyplot as plt\n",
        "%matplotlib inline\n",
        "\n",
        "# if you see \"<classname> has no attribute .env\", remove .env or update gym\n",
        "env = gym.make(\"CartPole-v0\").env\n",
        "\n",
        "env.reset()\n",
        "n_actions = env.action_space.n\n",
        "state_dim = env.observation_space.shape[0]\n",
        "\n",
        "plt.imshow(env.render(\"rgb_array\"))\n",
        "print(\"state vector dim =\", state_dim)\n",
        "print(\"n_actions =\", n_actions)"
      ],
      "execution_count": 0,
      "outputs": [
        {
          "output_type": "stream",
          "text": [
            "/usr/local/lib/python3.6/dist-packages/gym/logger.py:30: UserWarning: \u001b[33mWARN: Box bound precision lowered by casting to float32\u001b[0m\n",
            "  warnings.warn(colorize('%s: %s'%('WARN', msg % args), 'yellow'))\n"
          ],
          "name": "stderr"
        },
        {
          "output_type": "stream",
          "text": [
            "state vector dim = 4\n",
            "n_actions = 2\n"
          ],
          "name": "stdout"
        },
        {
          "output_type": "display_data",
          "data": {
            "image/png": "[encoded data removed]",
            "text/plain": [
              "<Figure size 432x288 with 1 Axes>"
            ]
          },
          "metadata": {
            "tags": []
          }
        }
      ]
    },
    {
      "cell_type": "markdown",
      "metadata": {
        "id": "X2neknz9bFAt",
        "colab_type": "text"
      },
      "source": [
        "# Neural Network Policy\n",
        "\n",
        "For this assignment we'll utilize the simplified neural network implementation from __[Scikit-learn](https://scikit-learn.org/stable/modules/generated/sklearn.neural_network.MLPClassifier.html)__. Here's what you'll need:\n",
        "\n",
        "* `agent.partial_fit(states, actions)` - make a single training pass over the data. Maximize the probabilitity of :actions: from :states:\n",
        "* `agent.predict_proba(states)` - predict probabilities of all actions, a matrix of shape __[len(states), n_actions]__\n"
      ]
    },
    {
      "cell_type": "code",
      "metadata": {
        "id": "Bt4A5fmEbFAv",
        "colab_type": "code",
        "outputId": "cedddb6b-f072-4f4c-a179-806110064e8c",
        "colab": {
          "base_uri": "https://localhost:8080/",
          "height": 153
        }
      },
      "source": [
        "from sklearn.neural_network import MLPClassifier\n",
        "\n",
        "agent = MLPClassifier(\n",
        "    hidden_layer_sizes=(20, 20),\n",
        "    activation='tanh',\n",
        ")\n",
        "\n",
        "# initialize agent to the dimension of state space and number of actions\n",
        "agent.partial_fit([env.reset()] * n_actions, range(n_actions), range(n_actions))"
      ],
      "execution_count": 0,
      "outputs": [
        {
          "output_type": "execute_result",
          "data": {
            "text/plain": [
              "MLPClassifier(activation='tanh', alpha=0.0001, batch_size='auto', beta_1=0.9,\n",
              "              beta_2=0.999, early_stopping=False, epsilon=1e-08,\n",
              "              hidden_layer_sizes=(20, 20), learning_rate='constant',\n",
              "              learning_rate_init=0.001, max_fun=15000, max_iter=200,\n",
              "              momentum=0.9, n_iter_no_change=10, nesterovs_momentum=True,\n",
              "              power_t=0.5, random_state=None, shuffle=True, solver='adam',\n",
              "              tol=0.0001, validation_fraction=0.1, verbose=False,\n",
              "              warm_start=False)"
            ]
          },
          "metadata": {
            "tags": []
          },
          "execution_count": 3
        }
      ]
    },
    {
      "cell_type": "code",
      "metadata": {
        "id": "JkT9M8HKbFAz",
        "colab_type": "code",
        "colab": {}
      },
      "source": [
        "def generate_session(env, agent, n_actions, t_max=1000):\n",
        "    \"\"\"\n",
        "    Play a single game using agent neural network.\n",
        "    Terminate when game finishes or after :t_max: steps\n",
        "    \"\"\"\n",
        "    states, actions = [], []\n",
        "    total_reward = 0\n",
        "\n",
        "    s = env.reset()\n",
        "\n",
        "    for t in range(t_max):\n",
        "        \n",
        "        # use agent to predict a vector of action probabilities for state :s:\n",
        "        probs = agent.predict_proba([s])[0]\n",
        "\n",
        "        assert probs.shape == (n_actions,), \"make sure probabilities are a vector (hint: np.reshape)\"\n",
        "        \n",
        "        # use the probabilities you predicted to pick an action\n",
        "        # sample proportionally to the probabilities, don't just take the most likely action\n",
        "        a = np.random.choice(n_actions, p=probs)\n",
        "        # ^-- hint: try np.random.choice\n",
        "\n",
        "        new_s, r, done, info = env.step(a)\n",
        "\n",
        "        # record sessions like you did before\n",
        "        states.append(s)\n",
        "        actions.append(a)\n",
        "        total_reward += r\n",
        "\n",
        "        s = new_s\n",
        "        if done:\n",
        "            break\n",
        "    return states, actions, total_reward"
      ],
      "execution_count": 0,
      "outputs": []
    },
    {
      "cell_type": "code",
      "metadata": {
        "id": "jk6cWeMQbFA3",
        "colab_type": "code",
        "outputId": "d0f174a4-7c86-4a88-8cff-f4dc6c4b7bbe",
        "colab": {
          "base_uri": "https://localhost:8080/",
          "height": 136
        }
      },
      "source": [
        "dummy_states, dummy_actions, dummy_reward = generate_session(env, agent, n_actions, t_max=5)\n",
        "print(\"states:\", np.stack(dummy_states))\n",
        "print(\"actions:\", dummy_actions)\n",
        "print(\"reward:\", dummy_reward)"
      ],
      "execution_count": 0,
      "outputs": [
        {
          "output_type": "stream",
          "text": [
            "states: [[ 0.03553659  0.00472503  0.00942865  0.04464812]\n",
            " [ 0.03563109 -0.19053085  0.01032162  0.3402909 ]\n",
            " [ 0.03182048 -0.38579813  0.01712743  0.63621072]\n",
            " [ 0.02410452 -0.58115471  0.02985165  0.93423783]\n",
            " [ 0.01248142 -0.77666636  0.0485364   1.23614973]]\n",
            "actions: [0, 0, 0, 0, 0]\n",
            "reward: 5.0\n"
          ],
          "name": "stdout"
        }
      ]
    },
    {
      "cell_type": "markdown",
      "metadata": {
        "id": "vw6_czeqbFBK",
        "colab_type": "text"
      },
      "source": [
        "### CEM steps\n",
        "Deep CEM uses exactly the same strategy as the regular CEM, so you can copy your function code from previous notebook.\n",
        "\n",
        "The only difference is that now each observation is not a number but a `float32` vector."
      ]
    },
    {
      "cell_type": "code",
      "metadata": {
        "id": "6BRqatVrbFBL",
        "colab_type": "code",
        "colab": {}
      },
      "source": [
        "def select_elites(states_batch, actions_batch, rewards_batch, percentile=50):\n",
        "    \"\"\"\n",
        "    Select states and actions from games that have rewards >= percentile\n",
        "    :param states_batch: list of lists of states, states_batch[session_i][t]\n",
        "    :param actions_batch: list of lists of actions, actions_batch[session_i][t]\n",
        "    :param rewards_batch: list of rewards, rewards_batch[session_i]\n",
        "\n",
        "    :returns: elite_states,elite_actions, both 1D lists of states and respective actions from elite sessions\n",
        "\n",
        "    Please return elite states and actions in their original order \n",
        "    [i.e. sorted by session number and timestep within session]\n",
        "\n",
        "    If you are confused, see examples below. Please don't assume that states are integers\n",
        "    (they will become different later).\n",
        "    \"\"\"\n",
        "    reward = np.percentile(rewards_batch, percentile)\n",
        "    elite_states = [s for i, r in enumerate(rewards_batch) if r > reward for s in states_batch[i]]\n",
        "    elite_actions = [a for i, r in enumerate(rewards_batch) if r > reward for a in actions_batch[i]]\n",
        "    # <YOUR CODE: copy-paste your implementation from the previous notebook>\n",
        "    \n",
        "    return elite_states, elite_actions"
      ],
      "execution_count": 0,
      "outputs": []
    },
    {
      "cell_type": "markdown",
      "metadata": {
        "id": "VoX4KXCebFBP",
        "colab_type": "text"
      },
      "source": [
        "# Training loop\n",
        "Generate sessions, select N best and fit to those."
      ]
    },
    {
      "cell_type": "code",
      "metadata": {
        "id": "dZI2F68ZbFBQ",
        "colab_type": "code",
        "colab": {}
      },
      "source": [
        "from IPython.display import clear_output\n",
        "\n",
        "def show_progress(rewards_batch, log, percentile, reward_range=[-990, +10]):\n",
        "    \"\"\"\n",
        "    A convenience function that displays training progress. \n",
        "    No cool math here, just charts.\n",
        "    \"\"\"\n",
        "\n",
        "    mean_reward = np.mean(rewards_batch)\n",
        "    threshold = np.percentile(rewards_batch, percentile)\n",
        "    log.append([mean_reward, threshold])\n",
        "\n",
        "    clear_output(True)\n",
        "    print(\"mean reward = %.3f, threshold=%.3f\" % (mean_reward, threshold))\n",
        "    plt.figure(figsize=[8, 4])\n",
        "    plt.subplot(1, 2, 1)\n",
        "    plt.plot(list(zip(*log))[0], label='Mean rewards')\n",
        "    plt.plot(list(zip(*log))[1], label='Reward thresholds')\n",
        "    plt.legend()\n",
        "    plt.grid()\n",
        "\n",
        "    plt.subplot(1, 2, 2)\n",
        "    plt.hist(rewards_batch, range=reward_range)\n",
        "    plt.vlines([np.percentile(rewards_batch, percentile)],\n",
        "               [0], [100], label=\"percentile\", color='red')\n",
        "    plt.legend()\n",
        "    plt.grid()\n",
        "\n",
        "    plt.show()"
      ],
      "execution_count": 0,
      "outputs": []
    },
    {
      "cell_type": "code",
      "metadata": {
        "id": "ZrJudRyHbFBU",
        "colab_type": "code",
        "outputId": "88328896-8bd9-4dde-8a68-dfb8017992d7",
        "colab": {
          "base_uri": "https://localhost:8080/",
          "height": 299
        }
      },
      "source": [
        "n_sessions = 100\n",
        "percentile = 70\n",
        "log = []\n",
        "agent = MLPClassifier(\n",
        "    hidden_layer_sizes=(20, 20),\n",
        "    activation='tanh',\n",
        ")\n",
        "\n",
        "# initialize agent to the dimension of state space and number of actions\n",
        "agent.partial_fit([env.reset()] * n_actions, range(n_actions), range(n_actions))\n",
        "\n",
        "for i in range(100):\n",
        "    # generate new sessions\n",
        "    sessions = [generate_session(env, agent, n_actions) for _ in range(n_sessions)] # < generate a list of n_sessions new sessions > ]\n",
        "\n",
        "    states_batch, actions_batch, rewards_batch = map(np.array, zip(*sessions))\n",
        "\n",
        "    elite_states, elite_actions = select_elites(states_batch, actions_batch, rewards_batch, percentile=percentile) # <select elite actions just like before>\n",
        "\n",
        "    # <partial_fit agent to predict elite_actions(y) from elite_states(X)>\n",
        "    agent.partial_fit(elite_states, elite_actions)\n",
        "\n",
        "    show_progress(rewards_batch, log, percentile, reward_range=[0, np.max(rewards_batch)])\n",
        "\n",
        "    if np.mean(rewards_batch) > 190:\n",
        "        print(\"You Win! You may stop training now via KeyboardInterrupt.\")\n",
        "        break"
      ],
      "execution_count": 0,
      "outputs": [
        {
          "output_type": "stream",
          "text": [
            "mean reward = 228.240, threshold=268.800\n"
          ],
          "name": "stdout"
        },
        {
          "output_type": "display_data",
          "data": {
            "image/png": "[encoded data removed]",
            "text/plain": [
              "<Figure size 576x288 with 2 Axes>"
            ]
          },
          "metadata": {
            "tags": []
          }
        },
        {
          "output_type": "stream",
          "text": [
            "You Win! You may stop training now via KeyboardInterrupt.\n"
          ],
          "name": "stdout"
        }
      ]
    },
    {
      "cell_type": "code",
      "metadata": {
        "id": "CGWSOcAUiawv",
        "colab_type": "code",
        "outputId": "30438440-4010-4bd2-c7b8-d87c10a82f11",
        "colab": {
          "base_uri": "https://localhost:8080/",
          "height": 1000
        }
      },
      "source": [
        "n_sessions = 100\n",
        "percentile = 50\n",
        "log = []\n",
        "\n",
        "convergence = []\n",
        "for percentile in range(10, 100, 10):\n",
        "  agent = MLPClassifier(\n",
        "      hidden_layer_sizes=(20, 20),\n",
        "      activation='tanh',\n",
        "  )\n",
        "\n",
        "  # initialize agent to the dimension of state space and number of actions\n",
        "  agent.partial_fit([env.reset()] * n_actions, range(n_actions), range(n_actions))\n",
        "  for i in range(100):\n",
        "      # generate new sessions\n",
        "      sessions = [generate_session(env, agent, n_actions) for _ in range(n_sessions)] # < generate a list of n_sessions new sessions > ]\n",
        "\n",
        "      states_batch, actions_batch, rewards_batch = map(np.array, zip(*sessions))\n",
        "\n",
        "      elite_states, elite_actions = select_elites(states_batch, actions_batch, rewards_batch, percentile=percentile) # <select elite actions just like before>\n",
        "\n",
        "      # <partial_fit agent to predict elite_actions(y) from elite_states(X)>\n",
        "      agent.partial_fit(elite_states, elite_actions)\n",
        "\n",
        "      # show_progress(rewards_batch, log, percentile, reward_range=[0, np.max(rewards_batch)])\n",
        "      if i % 10 == 0:\n",
        "          print(\"percentile = {}, iteration = {}, mean = {}\".format(percentile, i, np.mean(rewards_batch)))\n",
        "      if np.mean(rewards_batch) > 190:\n",
        "          print(\"You Win! You may stop training now via KeyboardInterrupt.\")\n",
        "          print(\"percentile = {}, iteration = {}\".format(percentile, i))\n",
        "          convergence.append(i)\n",
        "          break\n",
        "  else:\n",
        "    convergence.append(i)"
      ],
      "execution_count": 0,
      "outputs": [
        {
          "output_type": "stream",
          "text": [
            "percentile = 10, iteration = 0, mean = 20.77\n",
            "percentile = 10, iteration = 10, mean = 30.18\n",
            "percentile = 10, iteration = 20, mean = 48.74\n",
            "percentile = 10, iteration = 30, mean = 70.77\n",
            "percentile = 10, iteration = 40, mean = 108.08\n",
            "percentile = 10, iteration = 50, mean = 125.19\n",
            "percentile = 10, iteration = 60, mean = 149.91\n",
            "percentile = 10, iteration = 70, mean = 178.79\n",
            "percentile = 10, iteration = 80, mean = 180.71\n",
            "You Win! You may stop training now via KeyboardInterrupt.\n",
            "percentile = 10, iteration = 85\n",
            "percentile = 20, iteration = 0, mean = 20.1\n",
            "percentile = 20, iteration = 10, mean = 24.71\n",
            "percentile = 20, iteration = 20, mean = 40.02\n",
            "percentile = 20, iteration = 30, mean = 62.82\n",
            "percentile = 20, iteration = 40, mean = 81.8\n",
            "percentile = 20, iteration = 50, mean = 116.22\n",
            "percentile = 20, iteration = 60, mean = 188.37\n",
            "You Win! You may stop training now via KeyboardInterrupt.\n",
            "percentile = 20, iteration = 64\n",
            "percentile = 30, iteration = 0, mean = 31.1\n",
            "percentile = 30, iteration = 10, mean = 50.38\n",
            "percentile = 30, iteration = 20, mean = 71.25\n",
            "percentile = 30, iteration = 30, mean = 99.1\n",
            "percentile = 30, iteration = 40, mean = 119.38\n",
            "percentile = 30, iteration = 50, mean = 138.22\n",
            "percentile = 30, iteration = 60, mean = 167.1\n",
            "percentile = 30, iteration = 70, mean = 190.67\n",
            "You Win! You may stop training now via KeyboardInterrupt.\n",
            "percentile = 30, iteration = 70\n",
            "percentile = 40, iteration = 0, mean = 14.54\n",
            "percentile = 40, iteration = 10, mean = 24.27\n",
            "percentile = 40, iteration = 20, mean = 39.93\n",
            "percentile = 40, iteration = 30, mean = 58.03\n",
            "percentile = 40, iteration = 40, mean = 93.97\n",
            "percentile = 40, iteration = 50, mean = 151.14\n",
            "You Win! You may stop training now via KeyboardInterrupt.\n",
            "percentile = 40, iteration = 58\n",
            "percentile = 50, iteration = 0, mean = 20.14\n",
            "percentile = 50, iteration = 10, mean = 44.21\n",
            "percentile = 50, iteration = 20, mean = 71.87\n",
            "percentile = 50, iteration = 30, mean = 156.96\n",
            "You Win! You may stop training now via KeyboardInterrupt.\n",
            "percentile = 50, iteration = 37\n",
            "percentile = 60, iteration = 0, mean = 22.41\n",
            "percentile = 60, iteration = 10, mean = 44.61\n",
            "percentile = 60, iteration = 20, mean = 155.38\n",
            "You Win! You may stop training now via KeyboardInterrupt.\n",
            "percentile = 60, iteration = 22\n",
            "percentile = 70, iteration = 0, mean = 16.77\n",
            "percentile = 70, iteration = 10, mean = 37.53\n",
            "percentile = 70, iteration = 20, mean = 71.4\n",
            "You Win! You may stop training now via KeyboardInterrupt.\n",
            "percentile = 70, iteration = 28\n",
            "percentile = 80, iteration = 0, mean = 21.54\n",
            "percentile = 80, iteration = 10, mean = 44.72\n",
            "percentile = 80, iteration = 20, mean = 113.77\n",
            "You Win! You may stop training now via KeyboardInterrupt.\n",
            "percentile = 80, iteration = 26\n",
            "percentile = 90, iteration = 0, mean = 21.75\n",
            "percentile = 90, iteration = 10, mean = 29.08\n",
            "percentile = 90, iteration = 20, mean = 45.03\n",
            "percentile = 90, iteration = 30, mean = 91.96\n",
            "percentile = 90, iteration = 40, mean = 215.71\n",
            "You Win! You may stop training now via KeyboardInterrupt.\n",
            "percentile = 90, iteration = 40\n"
          ],
          "name": "stdout"
        },
        {
          "output_type": "execute_result",
          "data": {
            "text/plain": [
              "Text(0, 0.5, 'converged at')"
            ]
          },
          "metadata": {
            "tags": []
          },
          "execution_count": 54
        },
        {
          "output_type": "display_data",
          "data": {
            "image/png": "[encoded data removed]",
            "text/plain": [
              "<Figure size 432x288 with 1 Axes>"
            ]
          },
          "metadata": {
            "tags": []
          }
        }
      ]
    },
    {
      "cell_type": "code",
      "metadata": {
        "id": "y0sdYkxEsPQI",
        "colab_type": "code",
        "outputId": "d4c5f446-de4f-4b20-baba-9a685d4b244c",
        "colab": {
          "base_uri": "https://localhost:8080/",
          "height": 325
        }
      },
      "source": [
        "fig = plt.figure()\n",
        "plt.plot(range(10, 100, 10), convergence)\n",
        "fig.suptitle('Convergence by percentile', fontsize=20)\n",
        "plt.xlabel(\"percentile\", )\n",
        "plt.ylabel(\"converged at\")"
      ],
      "execution_count": 0,
      "outputs": [
        {
          "output_type": "execute_result",
          "data": {
            "text/plain": [
              "Text(0, 0.5, 'converged at')"
            ]
          },
          "metadata": {
            "tags": []
          },
          "execution_count": 56
        },
        {
          "output_type": "display_data",
          "data": {
            "image/png": "[encoded data removed]",
            "text/plain": [
              "<Figure size 432x288 with 1 Axes>"
            ]
          },
          "metadata": {
            "tags": []
          }
        }
      ]
    },
    {
      "cell_type": "code",
      "metadata": {
        "id": "7Rtn5PZwkcTp",
        "colab_type": "code",
        "outputId": "950c313f-1ca0-4c5b-9396-5dcf9646c60d",
        "colab": {
          "base_uri": "https://localhost:8080/",
          "height": 1000
        }
      },
      "source": [
        "n_sessions = 100\n",
        "percentile = 60\n",
        "log = []\n",
        "\n",
        "convergence_by_session = []\n",
        "for n_sessions in range(50, 160, 10):\n",
        "  agent = MLPClassifier(\n",
        "      hidden_layer_sizes=(20, 20),\n",
        "      activation='tanh',\n",
        "  )\n",
        "\n",
        "  # initialize agent to the dimension of state space and number of actions\n",
        "  agent.partial_fit([env.reset()] * n_actions, range(n_actions), range(n_actions))\n",
        "  for i in range(100):\n",
        "      # generate new sessions\n",
        "      sessions = [generate_session(env, agent, n_actions) for _ in range(n_sessions)] # < generate a list of n_sessions new sessions > ]\n",
        "\n",
        "      states_batch, actions_batch, rewards_batch = map(np.array, zip(*sessions))\n",
        "\n",
        "      elite_states, elite_actions = select_elites(states_batch, actions_batch, rewards_batch, percentile=percentile) # <select elite actions just like before>\n",
        "\n",
        "      # <partial_fit agent to predict elite_actions(y) from elite_states(X)>\n",
        "      agent.partial_fit(elite_states, elite_actions)\n",
        "\n",
        "      # show_progress(rewards_batch, log, percentile, reward_range=[0, np.max(rewards_batch)])\n",
        "      if i % 10 == 0:\n",
        "          print(\"n_sessions = {}, iteration = {}, mean = {}\".format(n_sessions, i, np.mean(rewards_batch)))\n",
        "      if np.mean(rewards_batch) > 190:\n",
        "          print(\"You Win! You may stop training now via KeyboardInterrupt.\")\n",
        "          print(\"n_sessions = {}, iteration = {}\".format(n_sessions, i))\n",
        "          convergence_by_session.append(i)\n",
        "          break\n",
        "  else:\n",
        "    convergence_by_session.append(i)\n",
        "\n"
      ],
      "execution_count": 0,
      "outputs": [
        {
          "output_type": "stream",
          "text": [
            "n_sessions = 50, iteration = 0, mean = 21.68\n",
            "n_sessions = 50, iteration = 10, mean = 35.2\n",
            "n_sessions = 50, iteration = 20, mean = 47.42\n",
            "n_sessions = 50, iteration = 30, mean = 70.1\n",
            "n_sessions = 50, iteration = 40, mean = 123.74\n",
            "You Win! You may stop training now via KeyboardInterrupt.\n",
            "n_sessions = 50, iteration = 45\n",
            "n_sessions = 60, iteration = 0, mean = 15.766666666666667\n",
            "n_sessions = 60, iteration = 10, mean = 25.466666666666665\n",
            "n_sessions = 60, iteration = 20, mean = 40.3\n",
            "n_sessions = 60, iteration = 30, mean = 63.0\n",
            "n_sessions = 60, iteration = 40, mean = 111.25\n",
            "You Win! You may stop training now via KeyboardInterrupt.\n",
            "n_sessions = 60, iteration = 46\n",
            "n_sessions = 70, iteration = 0, mean = 19.67142857142857\n",
            "n_sessions = 70, iteration = 10, mean = 29.87142857142857\n",
            "n_sessions = 70, iteration = 20, mean = 58.457142857142856\n",
            "n_sessions = 70, iteration = 30, mean = 168.71428571428572\n",
            "You Win! You may stop training now via KeyboardInterrupt.\n",
            "n_sessions = 70, iteration = 32\n",
            "n_sessions = 80, iteration = 0, mean = 24.2375\n",
            "n_sessions = 80, iteration = 10, mean = 38.2125\n",
            "n_sessions = 80, iteration = 20, mean = 55.5875\n",
            "n_sessions = 80, iteration = 30, mean = 190.6375\n",
            "You Win! You may stop training now via KeyboardInterrupt.\n",
            "n_sessions = 80, iteration = 30\n",
            "n_sessions = 90, iteration = 0, mean = 17.644444444444446\n",
            "n_sessions = 90, iteration = 10, mean = 28.288888888888888\n",
            "n_sessions = 90, iteration = 20, mean = 44.455555555555556\n",
            "n_sessions = 90, iteration = 30, mean = 82.55555555555556\n",
            "n_sessions = 90, iteration = 40, mean = 176.12222222222223\n",
            "You Win! You may stop training now via KeyboardInterrupt.\n",
            "n_sessions = 90, iteration = 43\n",
            "n_sessions = 100, iteration = 0, mean = 22.16\n",
            "n_sessions = 100, iteration = 10, mean = 60.73\n",
            "You Win! You may stop training now via KeyboardInterrupt.\n",
            "n_sessions = 100, iteration = 18\n",
            "n_sessions = 110, iteration = 0, mean = 25.972727272727273\n",
            "n_sessions = 110, iteration = 10, mean = 57.86363636363637\n",
            "n_sessions = 110, iteration = 20, mean = 180.66363636363636\n",
            "You Win! You may stop training now via KeyboardInterrupt.\n",
            "n_sessions = 110, iteration = 21\n",
            "n_sessions = 120, iteration = 0, mean = 16.216666666666665\n",
            "n_sessions = 120, iteration = 10, mean = 30.825\n",
            "n_sessions = 120, iteration = 20, mean = 77.075\n",
            "You Win! You may stop training now via KeyboardInterrupt.\n",
            "n_sessions = 120, iteration = 28\n",
            "n_sessions = 130, iteration = 0, mean = 17.96153846153846\n",
            "n_sessions = 130, iteration = 10, mean = 38.03076923076923\n",
            "n_sessions = 130, iteration = 20, mean = 97.3\n",
            "You Win! You may stop training now via KeyboardInterrupt.\n",
            "n_sessions = 130, iteration = 26\n",
            "n_sessions = 140, iteration = 0, mean = 19.914285714285715\n",
            "n_sessions = 140, iteration = 10, mean = 60.621428571428574\n",
            "n_sessions = 140, iteration = 20, mean = 177.3357142857143\n",
            "You Win! You may stop training now via KeyboardInterrupt.\n",
            "n_sessions = 140, iteration = 21\n",
            "n_sessions = 150, iteration = 0, mean = 23.173333333333332\n",
            "n_sessions = 150, iteration = 10, mean = 93.92666666666666\n",
            "You Win! You may stop training now via KeyboardInterrupt.\n",
            "n_sessions = 150, iteration = 15\n"
          ],
          "name": "stdout"
        }
      ]
    },
    {
      "cell_type": "code",
      "metadata": {
        "id": "KMW2eYRFshle",
        "colab_type": "code",
        "outputId": "3c9e3ac4-17e4-4f54-8a20-c2271967e64b",
        "colab": {
          "base_uri": "https://localhost:8080/",
          "height": 326
        }
      },
      "source": [
        "fig = plt.figure()\n",
        "plt.plot(range(50, 160, 10), convergence_by_session)\n",
        "fig.suptitle('Convergence by n_sessions', fontsize=20)\n",
        "plt.xlabel(\"n_sessions\", )\n",
        "plt.ylabel(\"converged at\")"
      ],
      "execution_count": 0,
      "outputs": [
        {
          "output_type": "execute_result",
          "data": {
            "text/plain": [
              "Text(0, 0.5, 'converged at')"
            ]
          },
          "metadata": {
            "tags": []
          },
          "execution_count": 59
        },
        {
          "output_type": "display_data",
          "data": {
            "image/png": "[encoded data removed]",
            "text/plain": [
              "<Figure size 432x288 with 1 Axes>"
            ]
          },
          "metadata": {
            "tags": []
          }
        }
      ]
    },
    {
      "cell_type": "markdown",
      "metadata": {
        "id": "PHYgVLhJbFBY",
        "colab_type": "text"
      },
      "source": [
        "# Results"
      ]
    },
    {
      "cell_type": "code",
      "metadata": {
        "id": "rCCGnsLPbFBZ",
        "colab_type": "code",
        "outputId": "1eb7c569-4d13-4221-961c-b9fccefabc75",
        "colab": {
          "base_uri": "https://localhost:8080/",
          "height": 51
        }
      },
      "source": [
        "# record sessions\n",
        "import gym.wrappers\n",
        "env = gym.wrappers.Monitor(gym.make(\"CartPole-v0\"),\n",
        "                           directory=\"videos\", force=True)\n",
        "sessions = [generate_session(env, agent, n_actions) for _ in range(100)]\n",
        "env.close()"
      ],
      "execution_count": 0,
      "outputs": [
        {
          "output_type": "stream",
          "text": [
            "/usr/local/lib/python3.6/dist-packages/gym/logger.py:30: UserWarning: \u001b[33mWARN: Box bound precision lowered by casting to float32\u001b[0m\n",
            "  warnings.warn(colorize('%s: %s'%('WARN', msg % args), 'yellow'))\n"
          ],
          "name": "stderr"
        }
      ]
    },
    {
      "cell_type": "code",
      "metadata": {
        "id": "ojPxs0evbFBd",
        "colab_type": "code",
        "outputId": "837d2361-3ec2-4c4a-ce68-304413b2340a",
        "colab": {
          "resources": {
            "http://localhost:8080/videos/openaigym.video.3.1253.video000027.mp4": {
              "data": "CjwhRE9DVFlQRSBodG1sPgo8aHRtbCBsYW5nPWVuPgogIDxtZXRhIGNoYXJzZXQ9dXRmLTg+CiAgPG1ldGEgbmFtZT12aWV3cG9ydCBjb250ZW50PSJpbml0aWFsLXNjYWxlPTEsIG1pbmltdW0tc2NhbGU9MSwgd2lkdGg9ZGV2aWNlLXdpZHRoIj4KICA8dGl0bGU+RXJyb3IgNDA0IChOb3QgRm91bmQpISExPC90aXRsZT4KICA8c3R5bGU+CiAgICAqe21hcmdpbjowO3BhZGRpbmc6MH1odG1sLGNvZGV7Zm9udDoxNXB4LzIycHggYXJpYWwsc2Fucy1zZXJpZn1odG1se2JhY2tncm91bmQ6I2ZmZjtjb2xvcjojMjIyO3BhZGRpbmc6MTVweH1ib2R5e21hcmdpbjo3JSBhdXRvIDA7bWF4LXdpZHRoOjM5MHB4O21pbi1oZWlnaHQ6MTgwcHg7cGFkZGluZzozMHB4IDAgMTVweH0qID4gYm9keXtiYWNrZ3JvdW5kOnVybCgvL3d3dy5nb29nbGUuY29tL2ltYWdlcy9lcnJvcnMvcm9ib3QucG5nKSAxMDAlIDVweCBuby1yZXBlYXQ7cGFkZGluZy1yaWdodDoyMDVweH1we21hcmdpbjoxMXB4IDAgMjJweDtvdmVyZmxvdzpoaWRkZW59aW5ze2NvbG9yOiM3Nzc7dGV4dC1kZWNvcmF0aW9uOm5vbmV9YSBpbWd7Ym9yZGVyOjB9QG1lZGlhIHNjcmVlbiBhbmQgKG1heC13aWR0aDo3NzJweCl7Ym9keXtiYWNrZ3JvdW5kOm5vbmU7bWFyZ2luLXRvcDowO21heC13aWR0aDpub25lO3BhZGRpbmctcmlnaHQ6MH19I2xvZ297YmFja2dyb3VuZDp1cmwoLy93d3cuZ29vZ2xlLmNvbS9pbWFnZXMvbG9nb3MvZXJyb3JwYWdlL2Vycm9yX2xvZ28tMTUweDU0LnBuZykgbm8tcmVwZWF0O21hcmdpbi1sZWZ0Oi01cHh9QG1lZGlhIG9ubHkgc2NyZWVuIGFuZCAobWluLXJlc29sdXRpb246MTkyZHBpKXsjbG9nb3tiYWNrZ3JvdW5kOnVybCgvL3d3dy5nb29nbGUuY29tL2ltYWdlcy9sb2dvcy9lcnJvcnBhZ2UvZXJyb3JfbG9nby0xNTB4NTQtMngucG5nKSBuby1yZXBlYXQgMCUgMCUvMTAwJSAxMDAlOy1tb3otYm9yZGVyLWltYWdlOnVybCgvL3d3dy5nb29nbGUuY29tL2ltYWdlcy9sb2dvcy9lcnJvcnBhZ2UvZXJyb3JfbG9nby0xNTB4NTQtMngucG5nKSAwfX1AbWVkaWEgb25seSBzY3JlZW4gYW5kICgtd2Via2l0LW1pbi1kZXZpY2UtcGl4ZWwtcmF0aW86Mil7I2xvZ297YmFja2dyb3VuZDp1cmwoLy93d3cuZ29vZ2xlLmNvbS9pbWFnZXMvbG9nb3MvZXJyb3JwYWdlL2Vycm9yX2xvZ28tMTUweDU0LTJ4LnBuZykgbm8tcmVwZWF0Oy13ZWJraXQtYmFja2dyb3VuZC1zaXplOjEwMCUgMTAwJX19I2xvZ297ZGlzcGxheTppbmxpbmUtYmxvY2s7aGVpZ2h0OjU0cHg7d2lkdGg6MTUwcHh9CiAgPC9zdHlsZT4KICA8YSBocmVmPS8vd3d3Lmdvb2dsZS5jb20vPjxzcGFuIGlkPWxvZ28gYXJpYS1sYWJlbD1Hb29nbGU+PC9zcGFuPjwvYT4KICA8cD48Yj40MDQuPC9iPiA8aW5zPlRoYXTigJlzIGFuIGVycm9yLjwvaW5zPgogIDxwPiAgPGlucz5UaGF04oCZcyBhbGwgd2Uga25vdy48L2lucz4K",
              "ok": false,
              "headers": [
                [
                  "content-length",
                  "1449"
                ],
                [
                  "content-type",
                  "text/html; charset=utf-8"
                ]
              ],
              "status": 404,
              "status_text": ""
            }
          },
          "base_uri": "https://localhost:8080/",
          "height": 518
        }
      },
      "source": [
        "# show video\n",
        "from IPython.display import HTML\n",
        "import os\n",
        "\n",
        "video_names = list(\n",
        "    filter(lambda s: s.endswith(\".mp4\"), os.listdir(\"./videos/\")))\n",
        "print(video_names[-1])\n",
        "HTML(\"\"\"\n",
        "<video width=\"640\" height=\"480\" controls>\n",
        "  <source src=\"{}\" type=\"video/mp4\">\n",
        "</video>\n",
        "\"\"\".format(\"./videos/\"+video_names[-1]))  # this may or may not be _last_ video. Try other indices"
      ],
      "execution_count": 0,
      "outputs": [
        {
          "output_type": "stream",
          "text": [
            "openaigym.video.3.1253.video000027.mp4\n"
          ],
          "name": "stdout"
        },
        {
          "output_type": "execute_result",
          "data": {
            "text/html": [
              "\n",
              "<video width=\"640\" height=\"480\" controls>\n",
              "  <source src=\"./videos/openaigym.video.3.1253.video000027.mp4\" type=\"video/mp4\">\n",
              "</video>\n"
            ],
            "text/plain": [
              "<IPython.core.display.HTML object>"
            ]
          },
          "metadata": {
            "tags": []
          },
          "execution_count": 24
        }
      ]
    },
    {
      "cell_type": "markdown",
      "metadata": {
        "id": "hnmEjBLNbFBf",
        "colab_type": "text"
      },
      "source": [
        "# Homework part I\n",
        "\n",
        "### Tabular crossentropy method\n",
        "\n",
        "You may have noticed that the taxi problem quickly converges from -100 to a near-optimal score and then descends back into -50/-100. This is in part because the environment has some innate randomness. Namely, the starting points of passenger/driver change from episode to episode.\n",
        "\n",
        "### Tasks\n",
        "- __1.1__ (1 pts) Find out how the algorithm performance changes if you use a different `percentile` and/or `n_sessions`.\n",
        "- __1.2__ (2 pts) Tune the algorithm to end up with positive average score.\n",
        "\n",
        "It's okay to modify the existing code.\n"
      ]
    },
    {
      "cell_type": "markdown",
      "metadata": {
        "id": "53EAm5BfbFBg",
        "colab_type": "text"
      },
      "source": [
        "```<Describe what you did here.  Preferably with plot/report to support it.>```"
      ]
    },
    {
      "cell_type": "code",
      "metadata": {
        "id": "CKHfGZYputND",
        "colab_type": "code",
        "outputId": "be204be8-b996-4b9f-b55e-8486e50c7610",
        "colab": {
          "base_uri": "https://localhost:8080/",
          "height": 617
        }
      },
      "source": [
        "fig = plt.figure()\n",
        "plt.plot(range(10, 100, 10), convergence)\n",
        "fig.suptitle('Convergence by percentile', fontsize=20)\n",
        "plt.xlabel(\"percentile\", )\n",
        "plt.ylabel(\"converged at\")\n",
        "\n",
        "fig = plt.figure()\n",
        "plt.plot(range(50, 160, 10), convergence_by_session)\n",
        "fig.suptitle('Convergence by n_sessions', fontsize=20)\n",
        "plt.xlabel(\"n_sessions\", )\n",
        "plt.ylabel(\"converged at\")"
      ],
      "execution_count": 0,
      "outputs": [
        {
          "output_type": "execute_result",
          "data": {
            "text/plain": [
              "Text(0, 0.5, 'converged at')"
            ]
          },
          "metadata": {
            "tags": []
          },
          "execution_count": 60
        },
        {
          "output_type": "display_data",
          "data": {
            "image/png": "[encoded data removed]",
            "text/plain": [
              "<Figure size 432x288 with 1 Axes>"
            ]
          },
          "metadata": {
            "tags": []
          }
        },
        {
          "output_type": "display_data",
          "data": {
            "image/png": "[encoded data removed]",
            "text/plain": [
              "<Figure size 432x288 with 1 Axes>"
            ]
          },
          "metadata": {
            "tags": []
          }
        }
      ]
    },
    {
      "cell_type": "markdown",
      "metadata": {
        "id": "fe0mHk4sbFBh",
        "colab_type": "text"
      },
      "source": [
        "# Homework part II\n",
        "\n",
        "### Deep crossentropy method\n",
        "\n",
        "By this moment you should have got enough score on [CartPole-v0](https://gym.openai.com/envs/CartPole-v0) to consider it solved (see the link). It's time to try something harder.\n",
        "\n",
        "* if you have any trouble with CartPole-v0 and feel stuck, feel free to ask us or your peers for help.\n",
        "\n",
        "### Tasks\n",
        "\n",
        "* __2.1__ (3 pts) Pick one of environments: MountainCar-v0 or LunarLander-v2.\n",
        "  * For MountainCar, get average reward of __at least -150__\n",
        "  * For LunarLander, get average reward of __at least +50__\n",
        "\n",
        "See the tips section below, it's kinda important.\n",
        "__Note:__ If your agent is below the target score, you'll still get most of the points depending on the result, so don't be afraid to submit it.\n",
        "  \n",
        "  \n",
        "* __2.2__ (up to 6 pt) Devise a way to speed up training against the default version\n",
        "  * Obvious improvement: use [joblib](https://www.google.com/search?client=ubuntu&channel=fs&q=joblib&ie=utf-8&oe=utf-8)\n",
        "  * Try re-using samples from 3-5 last iterations when computing threshold and training\n",
        "  * Experiment with amount of training iterations and learning rate of the neural network (see params)\n",
        "  \n",
        "__Please list what you did in anytask submission form__. __It's necessary to measure your improvement experimentally__.  __You score depends on this improvement. If the algorithm converges 2x faster, you obtain 3 pts. If the algorithm converges 4x faster, you obtain 6pts__.\n",
        "  \n",
        "  \n",
        "### Tips\n",
        "* Gym page: [MountainCar](https://gym.openai.com/envs/MountainCar-v0), [LunarLander](https://gym.openai.com/envs/LunarLander-v2)\n",
        "* Sessions for MountainCar may last for 10k+ ticks. Make sure ```t_max``` param is at least 10k.\n",
        " * Also it may be a good idea to cut rewards via \">\" and not \">=\". If 90% of your sessions get reward of -10k and 20% are better, than if you use percentile 20% as threshold, R >= threshold __fails cut off bad sessions__ whule R > threshold works alright.\n",
        "* _issue with gym_: Some versions of gym limit game time by 200 ticks. This will prevent cem training in most cases. Make sure your agent is able to play for the specified __t_max__, and if it isn't, try `env = gym.make(\"MountainCar-v0\").env` or otherwise get rid of TimeLimit wrapper.\n",
        "* If you use old _swig_ lib for LunarLander-v2, you may get an error. See this [issue](https://github.com/openai/gym/issues/100) for solution.\n",
        "* If it won't train it's a good idea to plot reward distribution and record sessions: they may give you some clue. If they don't, call course staff :)\n",
        "* 20-neuron network is probably not enough, feel free to experiment.\n",
        "\n",
        "You may find the following snippet useful:"
      ]
    },
    {
      "cell_type": "code",
      "metadata": {
        "id": "Oo7QLs-cvGgc",
        "colab_type": "code",
        "outputId": "ea503c4c-767e-4d0f-abab-6c5d10d68951",
        "colab": {
          "base_uri": "https://localhost:8080/",
          "height": 337
        }
      },
      "source": [
        "mountain_car_env = gym.make(\"MountainCar-v0\").env\n",
        "\n",
        "mountain_car_env.reset()\n",
        "mc_n_actions = mountain_car_env.action_space.n\n",
        "mc_state_dim = mountain_car_env.observation_space.shape[0]\n",
        "\n",
        "plt.imshow(mountain_car_env.render(\"rgb_array\"))\n",
        "print(\"state vector dim =\", mc_state_dim)\n",
        "print(\"n_actions =\", mc_n_actions)"
      ],
      "execution_count": 0,
      "outputs": [
        {
          "output_type": "stream",
          "text": [
            "/usr/local/lib/python3.6/dist-packages/gym/logger.py:30: UserWarning: \u001b[33mWARN: Box bound precision lowered by casting to float32\u001b[0m\n",
            "  warnings.warn(colorize('%s: %s'%('WARN', msg % args), 'yellow'))\n"
          ],
          "name": "stderr"
        },
        {
          "output_type": "stream",
          "text": [
            "state vector dim = 2\n",
            "n_actions = 3\n"
          ],
          "name": "stdout"
        },
        {
          "output_type": "display_data",
          "data": {
            "image/png": "[encoded data removed]",
            "text/plain": [
              "<Figure size 432x288 with 1 Axes>"
            ]
          },
          "metadata": {
            "tags": []
          }
        }
      ]
    },
    {
      "cell_type": "markdown",
      "metadata": {
        "id": "cY3z7PwHdr_6",
        "colab_type": "text"
      },
      "source": [
        "# Train BaseLine\n",
        "\n",
        "use n_session=50\n",
        "don't use results from previous session\n",
        "just measure execution time as a starting point"
      ]
    },
    {
      "cell_type": "code",
      "metadata": {
        "id": "58r_K8kp46Bt",
        "colab_type": "code",
        "colab": {}
      },
      "source": [
        "def train_agent_baseline(env, agent, t_max=10000, avg_reward=-150, n_sessions=150 // 3, percentile=60, gamma=1.0):\n",
        "  log = []\n",
        "\n",
        "  n_actions = env.action_space.n\n",
        "  state_dim = env.observation_space.shape[0]\n",
        "\n",
        "  # initialize agent to the dimension of state space and number of actions\n",
        "  print(env.reset())\n",
        "  agent.partial_fit([env.reset()] * n_actions, range(n_actions), range(n_actions))\n",
        "\n",
        "  sessions = []\n",
        "\n",
        "  for i in range(150):\n",
        "      # generate new sessions\n",
        "      sessions = [generate_session(env, agent, n_actions, t_max) for _ in range(n_sessions)]\n",
        "\n",
        "      states_batch, actions_batch, rewards_batch = map(np.array, zip(*list(sessions)))\n",
        "      elite_states, elite_actions = select_elites(states_batch, actions_batch, rewards_batch, percentile=percentile) # <select elite actions just like before>\n",
        "\n",
        "      if len(elite_states) >= gamma * percentile * n_sessions / 100:\n",
        "        agent.partial_fit(elite_states, elite_actions)\n",
        "      else:\n",
        "        print(\"len(elite_states) < limit: {}, skip training\".format(len(elite_states)))\n",
        "\n",
        "      show_progress(rewards_batch, log, percentile, reward_range=[-20000,np.max(rewards_batch)])\n",
        "\n",
        "      if np.mean(rewards_batch) > avg_reward:\n",
        "          print(\"You Win! You may stop training now via KeyboardInterrupt.\")\n",
        "          print(\"n_sessions = {}, iteration = {}\".format(n_sessions, i))\n",
        "          break\n",
        "  return log"
      ],
      "execution_count": 0,
      "outputs": []
    },
    {
      "cell_type": "code",
      "metadata": {
        "id": "T72SgbgIAp37",
        "colab_type": "code",
        "outputId": "079a4fbd-02a4-47e4-9be7-57a39c48a9f3",
        "colab": {
          "base_uri": "https://localhost:8080/",
          "height": 333
        }
      },
      "source": [
        "%%timeit -r1 -n1\n",
        "agent_baseline = MLPClassifier(\n",
        "    hidden_layer_sizes=(50, 50),\n",
        "    activation='tanh',\n",
        ")\n",
        "\n",
        "\n",
        "train_agent_baseline(mountain_car_env, agent_baseline, n_sessions=50, t_max=10000, avg_reward=-150)"
      ],
      "execution_count": 35,
      "outputs": [
        {
          "output_type": "stream",
          "text": [
            "mean reward = -149.820, threshold=-141.600\n"
          ],
          "name": "stdout"
        },
        {
          "output_type": "display_data",
          "data": {
            "image/png": "[encoded data removed]",
            "text/plain": [
              "<Figure size 576x288 with 2 Axes>"
            ]
          },
          "metadata": {
            "tags": []
          }
        },
        {
          "output_type": "stream",
          "text": [
            "You Win! You may stop training now via KeyboardInterrupt.\n",
            "n_sessions = 50, iteration = 87\n",
            "1 loop, best of 1: 26min 25s per loop\n"
          ],
          "name": "stdout"
        }
      ]
    },
    {
      "cell_type": "markdown",
      "metadata": {
        "id": "DIOb4dnb62jQ",
        "colab_type": "text"
      },
      "source": [
        "Actually time is not fixed, sometimes it's greater (in most of the cases)"
      ]
    },
    {
      "cell_type": "markdown",
      "metadata": {
        "id": "xQA65YtlhCe7",
        "colab_type": "text"
      },
      "source": [
        "# Simple implementation which uses deque to use 2 last iterations\n",
        "\n",
        "experiments with different t_max {1000, 2000}\n",
        "for t_max less than 10000 - need to restart it multiple time, since 1 out of 10 runs will actually converge, but if it doesn't converge, it is possible to interrupt earlier after 1st iteration."
      ]
    },
    {
      "cell_type": "code",
      "metadata": {
        "id": "1oGOR2Kyv0zR",
        "colab_type": "code",
        "colab": {}
      },
      "source": [
        "n_sessions = 150\n",
        "percentile = 60\n",
        "log = []\n",
        "agent = MLPClassifier(\n",
        "    hidden_layer_sizes=(50, 50),\n",
        "    activation='tanh',\n",
        ")\n",
        "from collections import deque\n",
        "\n",
        "def train_agent(env, agent, t_max=1000, avg_reward=190):\n",
        "  log = []\n",
        "\n",
        "  n_actions = env.action_space.n\n",
        "  state_dim = env.observation_space.shape[0]\n",
        "\n",
        "  # initialize agent to the dimension of state space and number of actions\n",
        "  print(env.reset())\n",
        "  agent.partial_fit([env.reset()] * n_actions, range(n_actions), range(n_actions))\n",
        "  sessions = deque(maxlen=3 * n_sessions)\n",
        "  for i in range(100):\n",
        "      # generate new sessions\n",
        "      sessions.extend([generate_session(env, agent, n_actions, t_max) for _ in range(n_sessions)]) # < generate a list of n_sessions new sessions > ]\n",
        "      states_batch, actions_batch, rewards_batch = map(np.array, zip(*list(sessions)))\n",
        "\n",
        "\n",
        "      elite_states, elite_actions = select_elites(states_batch, actions_batch, rewards_batch, percentile=percentile) # <select elite actions just like before>\n",
        "\n",
        "      if len(elite_states) > 0.5 * percentile * n_sessions / 100:\n",
        "        agent.partial_fit(elite_states, elite_actions)\n",
        "      else:\n",
        "        print(\"len(elite_states) < limit: {}, skip training\".format(len(elite_states))) \n",
        "\n",
        "      show_progress(rewards_batch, log, percentile, reward_range=[-20000,np.max(rewards_batch)])\n",
        "\n",
        "      if np.mean(rewards_batch) > avg_reward:\n",
        "          print(\"You Win! You may stop training now via KeyboardInterrupt.\")\n",
        "          print(\"n_sessions = {}, iteration = {}\".format(n_sessions, i))\n",
        "          break\n",
        "  return log"
      ],
      "execution_count": 0,
      "outputs": []
    },
    {
      "cell_type": "code",
      "metadata": {
        "id": "GVuZu5_9xt4t",
        "colab_type": "code",
        "outputId": "908a4d44-e345-436e-fce4-eba887f9f996",
        "colab": {
          "base_uri": "https://localhost:8080/",
          "height": 333
        }
      },
      "source": [
        "%%timeit -r1 -n1\n",
        "\n",
        "log = []\n",
        "agent = MLPClassifier(\n",
        "    hidden_layer_sizes=(50, 50),\n",
        "    activation='tanh',\n",
        ")\n",
        "\n",
        "\n",
        "log = train_agent(mountain_car_env, agent, t_max=2000, avg_reward=-150)"
      ],
      "execution_count": 0,
      "outputs": [
        {
          "output_type": "stream",
          "text": [
            "mean reward = -149.967, threshold=-146.000\n"
          ],
          "name": "stdout"
        },
        {
          "output_type": "display_data",
          "data": {
            "image/png": "[encoded data removed]",
            "text/plain": [
              "<Figure size 576x288 with 2 Axes>"
            ]
          },
          "metadata": {
            "tags": []
          }
        },
        {
          "output_type": "stream",
          "text": [
            "You Win! You may stop training now via KeyboardInterrupt.\n",
            "n_sessions = 150, iteration = 91\n",
            "1 loop, best of 1: 27min 50s per loop\n"
          ],
          "name": "stdout"
        }
      ]
    },
    {
      "cell_type": "code",
      "metadata": {
        "id": "lLJ32OKTfqL_",
        "colab_type": "code",
        "outputId": "212fda62-7751-4757-a08e-2e435d44d606",
        "colab": {
          "base_uri": "https://localhost:8080/",
          "height": 299
        }
      },
      "source": [
        "%%timeit -r1 -n1\n",
        "\n",
        "log = []\n",
        "agent = MLPClassifier(\n",
        "    hidden_layer_sizes=(50, 50),\n",
        "    activation='tanh',\n",
        ")\n",
        "\n",
        "\n",
        "log = train_agent(mountain_car_env, agent, t_max=1000, avg_reward=-150)"
      ],
      "execution_count": 0,
      "outputs": [
        {
          "output_type": "stream",
          "text": [
            "mean reward = -157.771, threshold=-139.600\n"
          ],
          "name": "stdout"
        },
        {
          "output_type": "display_data",
          "data": {
            "image/png": "[encoded data removed]",
            "text/plain": [
              "<Figure size 576x288 with 2 Axes>"
            ]
          },
          "metadata": {
            "tags": []
          }
        },
        {
          "output_type": "stream",
          "text": [
            "1 loop, best of 1: 29min 54s per loop\n"
          ],
          "name": "stdout"
        }
      ]
    },
    {
      "cell_type": "code",
      "metadata": {
        "id": "Vcg8bAqCbFBi",
        "colab_type": "code",
        "outputId": "64f6767b-9054-422a-dfd8-a7c402a29f8f",
        "colab": {
          "base_uri": "https://localhost:8080/",
          "height": 285
        }
      },
      "source": [
        "def visualize_mountain_car(env, agent):\n",
        "    xs = np.linspace(env.min_position, env.max_position, 100)\n",
        "    vs = np.linspace(-env.max_speed, env.max_speed, 100)\n",
        "    grid = np.dstack(np.meshgrid(xs, vs)).transpose(1, 0, 2)\n",
        "    grid_flat = grid.reshape(len(xs) * len(vs), 2)\n",
        "    probs = agent.predict_proba(grid_flat).reshape(len(xs), len(vs), 3)\n",
        "    return probs\n",
        "\n",
        "plt.imshow(visualize_mountain_car(mountain_car_env, agent))"
      ],
      "execution_count": 0,
      "outputs": [
        {
          "output_type": "execute_result",
          "data": {
            "text/plain": [
              "<matplotlib.image.AxesImage at 0x7fe6358b4ba8>"
            ]
          },
          "metadata": {
            "tags": []
          },
          "execution_count": 25
        },
        {
          "output_type": "display_data",
          "data": {
            "image/png": "[encoded data removed]",
            "text/plain": [
              "<Figure size 432x288 with 1 Axes>"
            ]
          },
          "metadata": {
            "tags": []
          }
        }
      ]
    },
    {
      "cell_type": "markdown",
      "metadata": {
        "id": "zl_yjgExgIUT",
        "colab_type": "text"
      },
      "source": [
        "# More experiments with MountainCar, try to use different threshold as gamma for training or skipping training depending on number of good sessions available"
      ]
    },
    {
      "cell_type": "code",
      "metadata": {
        "id": "zGo4uuLSbFBm",
        "colab_type": "code",
        "colab": {}
      },
      "source": [
        "def train_agent_v2(env, agent, t_max=10000, avg_reward=190, n_sessions=150 // 3, percentile=60, gamma=1.0):\n",
        "  log = []\n",
        "\n",
        "  n_actions = env.action_space.n\n",
        "  state_dim = env.observation_space.shape[0]\n",
        "\n",
        "  # initialize agent to the dimension of state space and number of actions\n",
        "  agent.partial_fit([env.reset()] * n_actions, range(n_actions), range(n_actions))\n",
        "  sessions = deque(maxlen=3 * n_sessions)\n",
        "  for i in range(150):\n",
        "      # generate new sessions\n",
        "      sessions.extend([generate_session(env, agent, n_actions, t_max) for _ in range(n_sessions)]) # < generate a list of n_sessions new sessions > ]\n",
        "      states_batch, actions_batch, rewards_batch = map(np.array, zip(*list(sessions)))\n",
        "\n",
        "      elite_states, elite_actions = select_elites(states_batch, actions_batch, rewards_batch, percentile=percentile) # <select elite actions just like before>\n",
        "\n",
        "      if len(elite_states) >= gamma * percentile * n_sessions / 100:\n",
        "        agent.partial_fit(elite_states, elite_actions)\n",
        "      else:\n",
        "        print(\"len(elite_states) < limit: {}, skip training\".format(len(elite_states)))\n",
        "\n",
        "      show_progress(rewards_batch, log, percentile, reward_range=[-20000,np.max(rewards_batch)])\n",
        "\n",
        "      if np.mean(rewards_batch) > avg_reward:\n",
        "          print(\"You Win!, n_sessions = {}, iteration = {}\".format(n_sessions, i))\n",
        "          break\n",
        "  return log"
      ],
      "execution_count": 0,
      "outputs": []
    },
    {
      "cell_type": "code",
      "metadata": {
        "id": "oLnxuCWLElDN",
        "colab_type": "code",
        "outputId": "b59e8f23-5a52-4a77-e28a-db3012e5e694",
        "colab": {
          "base_uri": "https://localhost:8080/",
          "height": 301
        }
      },
      "source": [
        "%%timeit -r1 -n1\n",
        "log = []\n",
        "agent_v2 = MLPClassifier(\n",
        "    hidden_layer_sizes=(50, 50),\n",
        "    activation='tanh',\n",
        ")\n",
        "\n",
        "\n",
        "train_agent_v2(mountain_car_env, agent_v2, avg_reward=-150)"
      ],
      "execution_count": 0,
      "outputs": [
        {
          "output_type": "stream",
          "text": [
            "mean reward = -156.553, threshold=-145.000\n"
          ],
          "name": "stdout"
        },
        {
          "output_type": "display_data",
          "data": {
            "image/png": "[encoded data removed]",
            "text/plain": [
              "<Figure size 576x288 with 2 Axes>"
            ]
          },
          "metadata": {
            "tags": []
          }
        },
        {
          "output_type": "stream",
          "text": [
            "1 loop, best of 1: 12min 10s per loop\n"
          ],
          "name": "stdout"
        }
      ]
    },
    {
      "cell_type": "markdown",
      "metadata": {
        "id": "AhVEIBekjaDv",
        "colab_type": "text"
      },
      "source": [
        "It seems I was extremelly lucky for this run. Usually, it takes more time, but lets keep it for history\n"
      ]
    },
    {
      "cell_type": "code",
      "metadata": {
        "id": "CrDjpX1uFD7y",
        "colab_type": "code",
        "outputId": "cdfc6c0b-22e9-43a0-ab70-aba1f6a40887",
        "colab": {
          "base_uri": "https://localhost:8080/",
          "height": 333
        }
      },
      "source": [
        "%%timeit -r1 -n1\n",
        "log = []\n",
        "agent_v3 = MLPClassifier(\n",
        "    hidden_layer_sizes=(50, 50),\n",
        "    activation='tanh',\n",
        ")\n",
        "\n",
        "\n",
        "train_agent_v2(mountain_car_env, agent_v3, n_sessions=150, t_max=10000, avg_reward=-150, gamma=0.5)"
      ],
      "execution_count": 0,
      "outputs": [
        {
          "output_type": "stream",
          "text": [
            "mean reward = -149.949, threshold=-144.000\n"
          ],
          "name": "stdout"
        },
        {
          "output_type": "display_data",
          "data": {
            "image/png": "[encoded data removed]",
            "text/plain": [
              "<Figure size 576x288 with 2 Axes>"
            ]
          },
          "metadata": {
            "tags": []
          }
        },
        {
          "output_type": "stream",
          "text": [
            "You Win! You may stop training now via KeyboardInterrupt.\n",
            "n_sessions = 150, iteration = 86\n",
            "1 loop, best of 1: 44min 1s per loop\n"
          ],
          "name": "stdout"
        }
      ]
    },
    {
      "cell_type": "markdown",
      "metadata": {
        "id": "Vr8tlvnlfvvL",
        "colab_type": "text"
      },
      "source": [
        "# Increase n_sessions but keep sessions history size constant, thus we use less and less items from previous sessions when n_sessions grows"
      ]
    },
    {
      "cell_type": "code",
      "metadata": {
        "id": "p0elyuqdNJHN",
        "colab_type": "code",
        "colab": {}
      },
      "source": [
        "def train_agent_v3(env, agent, t_max=10000, avg_reward=-150, n_sessions=150 // 3, percentile=60, gamma=1.0):\n",
        "  log = []\n",
        "\n",
        "  n_actions = env.action_space.n\n",
        "  state_dim = env.observation_space.shape[0]\n",
        "\n",
        "  # initialize agent to the dimension of state space and number of actions\n",
        "  print(env.reset())\n",
        "  agent.partial_fit([env.reset()] * n_actions, range(n_actions), range(n_actions))\n",
        "  max_size = 3 * n_sessions\n",
        "  sessions = deque(maxlen=max_size)\n",
        "  best_mean = -t_max\n",
        "  for i in range(150):\n",
        "      # generate new sessions\n",
        "      sessions.extend([generate_session(env, agent, n_actions, t_max) for _ in range(n_sessions)]) # < generate a list of n_sessions new sessions > ]\n",
        "      states_batch, actions_batch, rewards_batch = map(np.array, zip(*list(sessions)))\n",
        "\n",
        "\n",
        "      elite_states, elite_actions = select_elites(states_batch, actions_batch, rewards_batch, percentile=percentile) # <select elite actions just like before>\n",
        "      if len(elite_states) >= gamma * percentile * n_sessions / 100:\n",
        "        agent.partial_fit(elite_states, elite_actions)\n",
        "      else:\n",
        "        print(\"len(elite_states) < limit: {}, skip training\".format(len(elite_states)))\n",
        "\n",
        "      # show_progress(rewards_batch, log, percentile, reward_range=[0, np.max(rewards_batch)])\n",
        "      show_progress(rewards_batch, log, percentile, reward_range=[-20000,np.max(rewards_batch)])\n",
        "      if np.mean(rewards_batch) > best_mean / 3:\n",
        "          n_sessions = min(2 * n_sessions, max_size)\n",
        "          best_mean //= 3\n",
        "\n",
        "      if np.mean(rewards_batch) > avg_reward:\n",
        "          print(\"n_sessions = {}, iteration = {}\".format(n_sessions, i))\n",
        "          break\n",
        "  return log"
      ],
      "execution_count": 0,
      "outputs": []
    },
    {
      "cell_type": "code",
      "metadata": {
        "id": "PWtx7mhrTE6h",
        "colab_type": "code",
        "outputId": "4f9c3834-df1a-44a9-e720-b6bb9eefb94f",
        "colab": {
          "base_uri": "https://localhost:8080/",
          "height": 333
        }
      },
      "source": [
        "%%timeit -r1 -n1\n",
        "log = []\n",
        "agent_v4 = MLPClassifier(\n",
        "    hidden_layer_sizes=(50, 50),\n",
        "    activation='tanh',\n",
        ")\n",
        "\n",
        "\n",
        "train_agent_v3(mountain_car_env, agent_v4, n_sessions=25, t_max=10000, avg_reward=-150, gamma=1.0)"
      ],
      "execution_count": 0,
      "outputs": [
        {
          "output_type": "stream",
          "text": [
            "mean reward = -148.427, threshold=-123.000\n"
          ],
          "name": "stdout"
        },
        {
          "output_type": "display_data",
          "data": {
            "image/png": "[encoded data removed]",
            "text/plain": [
              "<Figure size 576x288 with 2 Axes>"
            ]
          },
          "metadata": {
            "tags": []
          }
        },
        {
          "output_type": "stream",
          "text": [
            "You Win! You may stop training now via KeyboardInterrupt.\n",
            "n_sessions = 75, iteration = 81\n",
            "1 loop, best of 1: 17min 25s per loop\n"
          ],
          "name": "stdout"
        }
      ]
    },
    {
      "cell_type": "markdown",
      "metadata": {
        "id": "yjDo61tffDw2",
        "colab_type": "text"
      },
      "source": [
        "# Increase n_sessions and extend sessions history to keep history from 2 runs"
      ]
    },
    {
      "cell_type": "code",
      "metadata": {
        "id": "Ib5j3ROb0fWr",
        "colab_type": "code",
        "colab": {}
      },
      "source": [
        "def train_agent_v4(env, agent, t_max=10000, avg_reward=-150, n_sessions=150 // 3, percentile=60, gamma=1.0):\n",
        "  log = []\n",
        "\n",
        "  n_actions = env.action_space.n\n",
        "  state_dim = env.observation_space.shape[0]\n",
        "\n",
        "  # initialize agent to the dimension of state space and number of actions\n",
        "  print(env.reset())\n",
        "  agent.partial_fit([env.reset()] * n_actions, range(n_actions), range(n_actions))\n",
        "  max_size = 3 * n_sessions\n",
        "  sessions = deque(maxlen=max_size)\n",
        "  best_mean = -t_max\n",
        "  for i in range(150):\n",
        "      # generate new sessions\n",
        "      sessions.extend([generate_session(env, agent, n_actions, t_max) for _ in range(n_sessions)]) # < generate a list of n_sessions new sessions > ]\n",
        "\n",
        "      states_batch, actions_batch, rewards_batch = map(np.array, zip(*list(sessions)))\n",
        "\n",
        "      elite_states, elite_actions = select_elites(states_batch, actions_batch, rewards_batch, percentile=percentile) # <select elite actions just like before>\n",
        "\n",
        "      if len(elite_states) >= gamma * percentile * n_sessions / 100:\n",
        "        agent.partial_fit(elite_states, elite_actions)\n",
        "      else:\n",
        "        print(\"len(elite_states) < limit: {}, skip training\".format(len(elite_states)))\n",
        "\n",
        "\n",
        "      show_progress(rewards_batch, log, percentile, reward_range=[-11000,np.max(rewards_batch)])\n",
        "      if np.mean(rewards_batch) > (best_mean / 3):\n",
        "          print(\"update n_sessions and best_mean {} {} {}\".format(n_sessions,\n",
        "                                                                  best_mean,\n",
        "                                                                  np.mean(rewards_batch)\n",
        "                                                                    ))\n",
        "          n_sessions = min(max_size, int(1.5 * n_sessions))\n",
        "          best_mean = np.mean(rewards_batch)\n",
        "          sessions = deque(sessions, maxlen=3 * n_sessions)\n",
        "\n",
        "      if np.mean(rewards_batch) > avg_reward:\n",
        "          print(\"You Win! n_sessions = {}, iteration = {}\".format(n_sessions, i))\n",
        "          break\n",
        "  return log"
      ],
      "execution_count": 0,
      "outputs": []
    },
    {
      "cell_type": "code",
      "metadata": {
        "id": "WxnLTwrE43l4",
        "colab_type": "code",
        "outputId": "ab883a13-5e56-4528-85e7-0db7c65e5ae5",
        "colab": {
          "base_uri": "https://localhost:8080/",
          "height": 316
        }
      },
      "source": [
        "%%timeit -r1 -n1\n",
        "agent_v5 = MLPClassifier(\n",
        "    hidden_layer_sizes=(50, 50),\n",
        "    activation='tanh',\n",
        ")\n",
        "\n",
        "\n",
        "train_agent_v4(mountain_car_env, agent_v5, n_sessions=25, percentile=75, t_max=10000, avg_reward=-150, gamma=1.0)"
      ],
      "execution_count": 41,
      "outputs": [
        {
          "output_type": "stream",
          "text": [
            "mean reward = -148.973, threshold=-139.000\n"
          ],
          "name": "stdout"
        },
        {
          "output_type": "display_data",
          "data": {
            "image/png": "[encoded data removed]",
            "text/plain": [
              "<Figure size 576x288 with 2 Axes>"
            ]
          },
          "metadata": {
            "tags": []
          }
        },
        {
          "output_type": "stream",
          "text": [
            "You Win! n_sessions = 75, iteration = 91\n",
            "1 loop, best of 1: 12min 15s per loop\n"
          ],
          "name": "stdout"
        }
      ]
    },
    {
      "cell_type": "markdown",
      "metadata": {
        "id": "tu_3IM3geBiN",
        "colab_type": "text"
      },
      "source": [
        "# Parallelized version\n",
        "\n",
        "Take the fastest version from previous runs and try to parallelilize it."
      ]
    },
    {
      "cell_type": "code",
      "metadata": {
        "id": "T67HlXFYBSJU",
        "colab_type": "code",
        "colab": {}
      },
      "source": [
        "from joblib import Parallel, delayed\n",
        "\n",
        "\n",
        "agent_v2 = MLPClassifier(\n",
        "    hidden_layer_sizes=(50, 50),\n",
        "    activation='tanh',\n",
        ")\n",
        "\n",
        "def parallel_generate_session(n_actions, t_max):\n",
        "    states, actions = [], []\n",
        "    total_reward = 0\n",
        "\n",
        "    s = mountain_car_env.reset()\n",
        "\n",
        "    for t in range(t_max):\n",
        "        \n",
        "        # use agent to predict a vector of action probabilities for state :s:\n",
        "        probs = agent_v2.predict_proba([s])[0]\n",
        "\n",
        "        assert probs.shape == (n_actions,), \"make sure probabilities are a vector (hint: np.reshape)\"\n",
        "        \n",
        "        # use the probabilities you predicted to pick an action\n",
        "        # sample proportionally to the probabilities, don't just take the most likely action\n",
        "        a = np.random.choice(n_actions, p=probs)\n",
        "\n",
        "        new_s, r, done, info = mountain_car_env.step(a)\n",
        "\n",
        "        # record sessions like you did before\n",
        "        states.append(s)\n",
        "        actions.append(a)\n",
        "        total_reward += r\n",
        "\n",
        "        s = new_s\n",
        "        if done:\n",
        "            break\n",
        "    return states, actions, total_reward\n",
        "\n",
        "def parallel_generate(n_actions, t_max, n_sessions , n_jobs = 3) :\n",
        "    sess = Parallel(n_jobs = n_jobs , backend = 'multiprocessing')(\n",
        "        delayed(parallel_generate_session)(n_actions, t_max) for _ in range(n_sessions) )\n",
        "    return sess\n",
        "\n",
        "\n",
        "def train_agent_parallel(env, agent, t_max=10000, avg_reward=190, n_sessions=150 // 3, percentile=60, gamma=1.0):\n",
        "  log = []\n",
        "\n",
        "  n_actions = env.action_space.n\n",
        "  state_dim = env.observation_space.shape[0]\n",
        "\n",
        "  # initialize agent to the dimension of state space and number of actions\n",
        "  agent.partial_fit([env.reset()] * n_actions, range(n_actions), range(n_actions))\n",
        "  sessions = deque(maxlen=3 * n_sessions)\n",
        "  for i in range(150):\n",
        "      # generate new sessions\n",
        "      sessions.extend(parallel_generate(n_actions, t_max, n_sessions))\n",
        "\n",
        "      states_batch, actions_batch, rewards_batch = map(np.array, zip(*list(sessions)))\n",
        "\n",
        "      elite_states, elite_actions = select_elites(states_batch, actions_batch, rewards_batch, percentile=percentile) # <select elite actions just like before>\n",
        "\n",
        "      # <partial_fit agent to predict elite_actions(y) from elite_states(X)>\n",
        "      if len(elite_states) >= gamma * percentile * n_sessions / 100:\n",
        "        agent.partial_fit(elite_states, elite_actions)\n",
        "      else:\n",
        "        print(\"len(elite_states) < limit: {}, skip training\".format(len(elite_states)))\n",
        "\n",
        "      show_progress(rewards_batch, log, percentile, reward_range=[-20000,np.max(rewards_batch)])\n",
        "\n",
        "      if np.mean(rewards_batch) > avg_reward:\n",
        "          print(\"You Win! n_sessions = {}, iteration = {}\".format(n_sessions, i))\n",
        "          break\n",
        "  return log"
      ],
      "execution_count": 0,
      "outputs": []
    },
    {
      "cell_type": "code",
      "metadata": {
        "id": "Pj0XgItCbwnH",
        "colab_type": "code",
        "colab": {
          "base_uri": "https://localhost:8080/",
          "height": 316
        },
        "outputId": "1d35de48-b6f5-45f6-9b93-a46e310575bc"
      },
      "source": [
        "%%timeit -r1 -n1\n",
        "train_agent_parallel(mountain_car_env, agent_v2, avg_reward=-150)"
      ],
      "execution_count": 30,
      "outputs": [
        {
          "output_type": "stream",
          "text": [
            "mean reward = -149.507, threshold=-143.000\n"
          ],
          "name": "stdout"
        },
        {
          "output_type": "display_data",
          "data": {
            "image/png": "[encoded data removed]",
            "text/plain": [
              "<Figure size 576x288 with 2 Axes>"
            ]
          },
          "metadata": {
            "tags": []
          }
        },
        {
          "output_type": "stream",
          "text": [
            "You Win! n_sessions = 50, iteration = 96\n",
            "1 loop, best of 1: 18min 29s per loop\n"
          ],
          "name": "stdout"
        }
      ]
    },
    {
      "cell_type": "code",
      "metadata": {
        "id": "LLprKSJ2dWy9",
        "colab_type": "code",
        "colab": {
          "base_uri": "https://localhost:8080/",
          "height": 955
        },
        "outputId": "f1788bd5-fd64-47e0-d7ec-8532ff36299a"
      },
      "source": [
        "!cat /proc/cpuinfo"
      ],
      "execution_count": 33,
      "outputs": [
        {
          "output_type": "stream",
          "text": [
            "processor\t: 0\n",
            "vendor_id\t: GenuineIntel\n",
            "cpu family\t: 6\n",
            "model\t\t: 79\n",
            "model name\t: Intel(R) Xeon(R) CPU @ 2.20GHz\n",
            "stepping\t: 0\n",
            "microcode\t: 0x1\n",
            "cpu MHz\t\t: 2200.000\n",
            "cache size\t: 56320 KB\n",
            "physical id\t: 0\n",
            "siblings\t: 2\n",
            "core id\t\t: 0\n",
            "cpu cores\t: 1\n",
            "apicid\t\t: 0\n",
            "initial apicid\t: 0\n",
            "fpu\t\t: yes\n",
            "fpu_exception\t: yes\n",
            "cpuid level\t: 13\n",
            "wp\t\t: yes\n",
            "flags\t\t: fpu vme de pse tsc msr pae mce cx8 apic sep mtrr pge mca cmov pat pse36 clflush mmx fxsr sse sse2 ss ht syscall nx pdpe1gb rdtscp lm constant_tsc rep_good nopl xtopology nonstop_tsc cpuid tsc_known_freq pni pclmulqdq ssse3 fma cx16 pcid sse4_1 sse4_2 x2apic movbe popcnt aes xsave avx f16c rdrand hypervisor lahf_lm abm 3dnowprefetch invpcid_single ssbd ibrs ibpb stibp fsgsbase tsc_adjust bmi1 hle avx2 smep bmi2 erms invpcid rtm rdseed adx smap xsaveopt arat md_clear arch_capabilities\n",
            "bugs\t\t: cpu_meltdown spectre_v1 spectre_v2 spec_store_bypass l1tf mds swapgs\n",
            "bogomips\t: 4400.00\n",
            "clflush size\t: 64\n",
            "cache_alignment\t: 64\n",
            "address sizes\t: 46 bits physical, 48 bits virtual\n",
            "power management:\n",
            "\n",
            "processor\t: 1\n",
            "vendor_id\t: GenuineIntel\n",
            "cpu family\t: 6\n",
            "model\t\t: 79\n",
            "model name\t: Intel(R) Xeon(R) CPU @ 2.20GHz\n",
            "stepping\t: 0\n",
            "microcode\t: 0x1\n",
            "cpu MHz\t\t: 2200.000\n",
            "cache size\t: 56320 KB\n",
            "physical id\t: 0\n",
            "siblings\t: 2\n",
            "core id\t\t: 0\n",
            "cpu cores\t: 1\n",
            "apicid\t\t: 1\n",
            "initial apicid\t: 1\n",
            "fpu\t\t: yes\n",
            "fpu_exception\t: yes\n",
            "cpuid level\t: 13\n",
            "wp\t\t: yes\n",
            "flags\t\t: fpu vme de pse tsc msr pae mce cx8 apic sep mtrr pge mca cmov pat pse36 clflush mmx fxsr sse sse2 ss ht syscall nx pdpe1gb rdtscp lm constant_tsc rep_good nopl xtopology nonstop_tsc cpuid tsc_known_freq pni pclmulqdq ssse3 fma cx16 pcid sse4_1 sse4_2 x2apic movbe popcnt aes xsave avx f16c rdrand hypervisor lahf_lm abm 3dnowprefetch invpcid_single ssbd ibrs ibpb stibp fsgsbase tsc_adjust bmi1 hle avx2 smep bmi2 erms invpcid rtm rdseed adx smap xsaveopt arat md_clear arch_capabilities\n",
            "bugs\t\t: cpu_meltdown spectre_v1 spectre_v2 spec_store_bypass l1tf mds swapgs\n",
            "bogomips\t: 4400.00\n",
            "clflush size\t: 64\n",
            "cache_alignment\t: 64\n",
            "address sizes\t: 46 bits physical, 48 bits virtual\n",
            "power management:\n",
            "\n"
          ],
          "name": "stdout"
        }
      ]
    },
    {
      "cell_type": "code",
      "metadata": {
        "id": "IvDwCP9cjCMa",
        "colab_type": "code",
        "colab": {}
      },
      "source": [
        "agent_v2 = MLPClassifier(\n",
        "    hidden_layer_sizes=(50, 50),\n",
        "    activation='tanh',\n",
        ")\n",
        "\n",
        "def parallel_generate_session(n_actions, t_max):\n",
        "    states, actions = [], []\n",
        "    total_reward = 0\n",
        "\n",
        "    s = mountain_car_env.reset()\n",
        "\n",
        "    for t in range(t_max):\n",
        "        \n",
        "        # use agent to predict a vector of action probabilities for state :s:\n",
        "        probs = agent_v2.predict_proba([s])[0]\n",
        "\n",
        "        assert probs.shape == (n_actions,), \"make sure probabilities are a vector (hint: np.reshape)\"\n",
        "        \n",
        "        # use the probabilities you predicted to pick an action\n",
        "        # sample proportionally to the probabilities, don't just take the most likely action\n",
        "        a = np.random.choice(n_actions, p=probs)\n",
        "\n",
        "        new_s, r, done, info = mountain_car_env.step(a)\n",
        "\n",
        "        # record sessions like you did before\n",
        "        states.append(s)\n",
        "        actions.append(a)\n",
        "        total_reward += r\n",
        "\n",
        "        s = new_s\n",
        "        if done:\n",
        "            break\n",
        "    return states, actions, total_reward\n",
        "\n",
        "def parallel_generate(n_actions, t_max, n_sessions , n_jobs = 3) :\n",
        "    sess = Parallel(n_jobs = n_jobs , backend = 'multiprocessing')(\n",
        "        delayed(parallel_generate_session)(n_actions, t_max) for _ in range(n_sessions) )\n",
        "    return sess\n",
        "\n",
        "def train_agent_parallel_v2(env, agent, t_max=10000, avg_reward=-150, n_sessions=150 // 3, percentile=60, gamma=1.0):\n",
        "  log = []\n",
        "\n",
        "  n_actions = env.action_space.n\n",
        "  state_dim = env.observation_space.shape[0]\n",
        "\n",
        "  # initialize agent to the dimension of state space and number of actions\n",
        "  print(env.reset())\n",
        "  agent.partial_fit([env.reset()] * n_actions, range(n_actions), range(n_actions))\n",
        "  max_size = 3 * n_sessions\n",
        "  sessions = deque(maxlen=max_size)\n",
        "  best_mean = -t_max\n",
        "  for i in range(150):\n",
        "      # generate new sessions\n",
        "      # sessions.extend([generate_session(env, agent, n_actions, t_max) for _ in range(n_sessions)]) # < generate a list of n_sessions new sessions > ]\n",
        "      sessions.extend(parallel_generate(n_actions, t_max, n_sessions))\n",
        "\n",
        "      states_batch, actions_batch, rewards_batch = map(np.array, zip(*list(sessions)))\n",
        "\n",
        "      elite_states, elite_actions = select_elites(states_batch, actions_batch, rewards_batch, percentile=percentile) # <select elite actions just like before>\n",
        "\n",
        "      if len(elite_states) >= gamma * percentile * n_sessions / 100:\n",
        "        agent.partial_fit(elite_states, elite_actions)\n",
        "      else:\n",
        "        print(\"len(elite_states) < limit: {}, skip training\".format(len(elite_states)))\n",
        "\n",
        "\n",
        "      show_progress(rewards_batch, log, percentile, reward_range=[-11000,np.max(rewards_batch)])\n",
        "      if np.mean(rewards_batch) > (best_mean / 3):\n",
        "          print(\"update n_sessions and best_mean {} {} {}\".format(n_sessions,\n",
        "                                                                  best_mean,\n",
        "                                                                  np.mean(rewards_batch)\n",
        "                                                                    ))\n",
        "          n_sessions = min(max_size, int(1.5 * n_sessions))\n",
        "          best_mean = np.mean(rewards_batch)\n",
        "          sessions = deque(sessions, maxlen=3 * n_sessions)\n",
        "\n",
        "      if np.mean(rewards_batch) > avg_reward:\n",
        "          print(\"You Win! n_sessions = {}, iteration = {}\".format(n_sessions, i))\n",
        "          break\n",
        "  return log"
      ],
      "execution_count": 0,
      "outputs": []
    },
    {
      "cell_type": "code",
      "metadata": {
        "id": "mWXzgVjEBhtt",
        "colab_type": "code",
        "colab": {
          "base_uri": "https://localhost:8080/",
          "height": 316
        },
        "outputId": "fcb8ed2c-608c-4f70-d814-0b8332d74b1b"
      },
      "source": [
        "%%timeit -r1 -n1\n",
        "train_agent_parallel_v2(mountain_car_env, agent_v2, n_sessions=25, percentile=75, avg_reward=-150)"
      ],
      "execution_count": 56,
      "outputs": [
        {
          "output_type": "stream",
          "text": [
            "mean reward = -149.884, threshold=-122.000\n"
          ],
          "name": "stdout"
        },
        {
          "output_type": "display_data",
          "data": {
            "image/png": "[encoded data removed]",
            "text/plain": [
              "<Figure size 576x288 with 2 Axes>"
            ]
          },
          "metadata": {
            "tags": []
          }
        },
        {
          "output_type": "stream",
          "text": [
            "You Win! n_sessions = 75, iteration = 57\n",
            "1 loop, best of 1: 7min 44s per loop\n"
          ],
          "name": "stdout"
        }
      ]
    },
    {
      "cell_type": "markdown",
      "metadata": {
        "id": "KV3DoLi4KqFr",
        "colab_type": "text"
      },
      "source": [
        "It converged in 7min 44s which is almost 4 times faster than baseline, but still, I feel some randomness because even baseline sometimes does not converge at all and I can run it multiple times and choose the slowest one (and it might be 40minutes or even more). Results are not stable that is my major concern."
      ]
    },
    {
      "cell_type": "markdown",
      "metadata": {
        "id": "h-yS--WHbFBm",
        "colab_type": "text"
      },
      "source": [
        "### Bonus tasks\n",
        "\n",
        "* __2.3 bonus__ (2 pts) Try to find a network architecture and training params that solve __both__ environments above (_Points depend on implementation. If you attempted this task, please mention it in anytask submission._)\n",
        "\n",
        "* __2.4 bonus__ (4 pts) Solve continuous action space task with `MLPRegressor` or similar.\n",
        "  * Since your agent only predicts the \"expected\" action, you will have to add noise to ensure exploration.\n",
        "  * Choose one of [MountainCarContinuous-v0](https://gym.openai.com/envs/MountainCarContinuous-v0) (90+ pts to solve), [LunarLanderContinuous-v2](https://gym.openai.com/envs/LunarLanderContinuous-v2) (200+ pts to solve) \n",
        "  * 4 points for solving. Slightly less for getting some results below solution threshold. Note that discrete and continuous environments may have slightly different rules aside from action spaces.\n",
        "\n",
        "\n",
        "If you're still feeling unchallenged, consider the project (see other notebook in this folder)."
      ]
    }
  ]
}